{
 "cells": [
  {
   "cell_type": "markdown",
   "id": "394af5c5-4c46-4054-9ca8-3d844125fbd0",
   "metadata": {},
   "source": [
    "# Classification of banana ripeness based on photos"
   ]
  },
  {
   "cell_type": "code",
   "execution_count": null,
   "id": "c8c29e38-ba18-48e3-a77f-204a5c941360",
   "metadata": {},
   "outputs": [],
   "source": []
  }
 ],
 "metadata": {
  "kernelspec": {
   "display_name": "Python 3 (ipykernel)",
   "language": "python",
   "name": "python3"
  },
  "language_info": {
   "codemirror_mode": {
    "name": "ipython",
    "version": 3
   },
   "file_extension": ".py",
   "mimetype": "text/x-python",
   "name": "python",
   "nbconvert_exporter": "python",
   "pygments_lexer": "ipython3",
   "version": "3.9.10"
  }
 },
 "nbformat": 4,
 "nbformat_minor": 5
}
